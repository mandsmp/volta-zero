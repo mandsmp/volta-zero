{
 "cells": [
  {
   "cell_type": "markdown",
   "metadata": {},
   "source": [
    "# Tarefa 01\n",
    "\n",
    "- Leia os enunciados com atenção\n",
    "- Saiba que pode haver mais de uma resposta correta\n",
    "- Insira novas células de código sempre que achar necessário\n",
    "- Em caso de dúvidas, procure os tutores\n",
    "- Divirta-se :)\n",
    "\n",
    "#### 1)  crie uma série do pandas a partir de uma lista com os dados abaixo:\n",
    "\n",
    "Em um estudo sobre alteração na tempreatura global, A NASA disponibiliza dados de diferenças de de temperatura média da superfície terrestre relativos às médias de temperatura entre 1951 e 1980. Os dados originais podem ser vistos no site da NASA/GISS, e estão dispostos a cada década na tabela abaixo.\n",
    "\n",
    "|ano|anomalia termica|\n",
    "|:-:|:----:|\n",
    "| 1900 | -0.08 |\n",
    "| 1920 | -0.27 |\n",
    "| 1940 | 0.12 |\n",
    "| 1960 | -0.03 |\n",
    "| 1980 | 0.26 |\n",
    "| 2000 | 0.40 |\n",
    "| 2020 | 1.02 |\n",
    "\n",
    "Crie uma séries do Pandas a partir de uma lista com esses dados."
   ]
  },
  {
   "cell_type": "code",
   "execution_count": 3,
   "metadata": {},
   "outputs": [
    {
     "data": {
      "text/html": [
       "<div>\n",
       "<style scoped>\n",
       "    .dataframe tbody tr th:only-of-type {\n",
       "        vertical-align: middle;\n",
       "    }\n",
       "\n",
       "    .dataframe tbody tr th {\n",
       "        vertical-align: top;\n",
       "    }\n",
       "\n",
       "    .dataframe thead th {\n",
       "        text-align: right;\n",
       "    }\n",
       "</style>\n",
       "<table border=\"1\" class=\"dataframe\">\n",
       "  <thead>\n",
       "    <tr style=\"text-align: right;\">\n",
       "      <th></th>\n",
       "      <th>0</th>\n",
       "    </tr>\n",
       "  </thead>\n",
       "  <tbody>\n",
       "    <tr>\n",
       "      <th>0</th>\n",
       "      <td>1900</td>\n",
       "    </tr>\n",
       "    <tr>\n",
       "      <th>1</th>\n",
       "      <td>1920</td>\n",
       "    </tr>\n",
       "    <tr>\n",
       "      <th>2</th>\n",
       "      <td>1940</td>\n",
       "    </tr>\n",
       "    <tr>\n",
       "      <th>3</th>\n",
       "      <td>1960</td>\n",
       "    </tr>\n",
       "    <tr>\n",
       "      <th>4</th>\n",
       "      <td>1980</td>\n",
       "    </tr>\n",
       "    <tr>\n",
       "      <th>5</th>\n",
       "      <td>2000</td>\n",
       "    </tr>\n",
       "    <tr>\n",
       "      <th>6</th>\n",
       "      <td>2020</td>\n",
       "    </tr>\n",
       "  </tbody>\n",
       "</table>\n",
       "</div>"
      ],
      "text/plain": [
       "      0\n",
       "0  1900\n",
       "1  1920\n",
       "2  1940\n",
       "3  1960\n",
       "4  1980\n",
       "5  2000\n",
       "6  2020"
      ]
     },
     "execution_count": 3,
     "metadata": {},
     "output_type": "execute_result"
    }
   ],
   "source": [
    "import pandas as pd\n",
    "import numpy as np\n",
    "\n",
    "# Seu código aqui\n",
    "anos=[1900,1920,1940,1960,1980,2000,2020]\n",
    "anos_serie = pd.DataFrame(anos)\n",
    "anos_serie"
   ]
  },
  {
   "cell_type": "markdown",
   "metadata": {},
   "source": [
    "#### 2) Coloque os anos nos índices conforme a tabela."
   ]
  },
  {
   "cell_type": "code",
   "execution_count": 5,
   "metadata": {},
   "outputs": [
    {
     "data": {
      "text/html": [
       "<div>\n",
       "<style scoped>\n",
       "    .dataframe tbody tr th:only-of-type {\n",
       "        vertical-align: middle;\n",
       "    }\n",
       "\n",
       "    .dataframe tbody tr th {\n",
       "        vertical-align: top;\n",
       "    }\n",
       "\n",
       "    .dataframe thead th {\n",
       "        text-align: right;\n",
       "    }\n",
       "</style>\n",
       "<table border=\"1\" class=\"dataframe\">\n",
       "  <thead>\n",
       "    <tr style=\"text-align: right;\">\n",
       "      <th></th>\n",
       "      <th>0</th>\n",
       "    </tr>\n",
       "  </thead>\n",
       "  <tbody>\n",
       "    <tr>\n",
       "      <th>1900</th>\n",
       "      <td>-0.08</td>\n",
       "    </tr>\n",
       "    <tr>\n",
       "      <th>1920</th>\n",
       "      <td>-0.27</td>\n",
       "    </tr>\n",
       "    <tr>\n",
       "      <th>1940</th>\n",
       "      <td>0.12</td>\n",
       "    </tr>\n",
       "    <tr>\n",
       "      <th>1960</th>\n",
       "      <td>-0.03</td>\n",
       "    </tr>\n",
       "    <tr>\n",
       "      <th>1980</th>\n",
       "      <td>0.26</td>\n",
       "    </tr>\n",
       "    <tr>\n",
       "      <th>2000</th>\n",
       "      <td>0.40</td>\n",
       "    </tr>\n",
       "    <tr>\n",
       "      <th>2020</th>\n",
       "      <td>1.02</td>\n",
       "    </tr>\n",
       "  </tbody>\n",
       "</table>\n",
       "</div>"
      ],
      "text/plain": [
       "         0\n",
       "1900 -0.08\n",
       "1920 -0.27\n",
       "1940  0.12\n",
       "1960 -0.03\n",
       "1980  0.26\n",
       "2000  0.40\n",
       "2020  1.02"
      ]
     },
     "execution_count": 5,
     "metadata": {},
     "output_type": "execute_result"
    }
   ],
   "source": [
    "\n",
    "# seu código aqui\n",
    "anomalias = [-0.08,-0.27,0.12,-0.03,0.26,0.40,1.02]\n",
    "anomalias_com_anos = pd.DataFrame(anomalias, index=anos)\n",
    "anomalias_com_anos"
   ]
  },
  {
   "cell_type": "markdown",
   "metadata": {},
   "source": [
    "#### 3) A partir do dicionário abaixo, crie uma séries do Pandas:"
   ]
  },
  {
   "cell_type": "code",
   "execution_count": 8,
   "metadata": {},
   "outputs": [
    {
     "data": {
      "text/plain": [
       "1900   -0.08\n",
       "1920   -0.27\n",
       "1940    0.12\n",
       "1960   -0.03\n",
       "1980    0.26\n",
       "2000    0.40\n",
       "2020    1.02\n",
       "dtype: float64"
      ]
     },
     "execution_count": 8,
     "metadata": {},
     "output_type": "execute_result"
    }
   ],
   "source": [
    "dic_temperaturas = {1900: -.08, 1920: -.27, 1940: .12, 1960: -.03, 1980: .26, 2000: .40, 2020: 1.02}\n",
    "\n",
    "# seu código aqui\n",
    "temperaturasSeriesDict = pd.Series(dic_temperaturas)\n",
    "temperaturasSeriesDict"
   ]
  },
  {
   "cell_type": "markdown",
   "metadata": {},
   "source": [
    "#### 4) Transforme o ndarray abaixo em um dataframe. \n",
    "O numpy é capaz de gerar arrays n-dimensionais com números pseudo-aleatórios de acordo com uma variedade de distribuições, como no exemplo abaixo. Transforme esse nd-array em um DataFrame."
   ]
  },
  {
   "cell_type": "code",
   "execution_count": 10,
   "metadata": {},
   "outputs": [
    {
     "data": {
      "text/html": [
       "<div>\n",
       "<style scoped>\n",
       "    .dataframe tbody tr th:only-of-type {\n",
       "        vertical-align: middle;\n",
       "    }\n",
       "\n",
       "    .dataframe tbody tr th {\n",
       "        vertical-align: top;\n",
       "    }\n",
       "\n",
       "    .dataframe thead th {\n",
       "        text-align: right;\n",
       "    }\n",
       "</style>\n",
       "<table border=\"1\" class=\"dataframe\">\n",
       "  <thead>\n",
       "    <tr style=\"text-align: right;\">\n",
       "      <th></th>\n",
       "      <th>0</th>\n",
       "      <th>1</th>\n",
       "      <th>2</th>\n",
       "    </tr>\n",
       "  </thead>\n",
       "  <tbody>\n",
       "    <tr>\n",
       "      <th>0</th>\n",
       "      <td>96.723357</td>\n",
       "      <td>97.612089</td>\n",
       "      <td>111.783604</td>\n",
       "    </tr>\n",
       "    <tr>\n",
       "      <th>1</th>\n",
       "      <td>91.945907</td>\n",
       "      <td>93.015671</td>\n",
       "      <td>87.330393</td>\n",
       "    </tr>\n",
       "    <tr>\n",
       "      <th>2</th>\n",
       "      <td>105.194174</td>\n",
       "      <td>120.185017</td>\n",
       "      <td>108.185917</td>\n",
       "    </tr>\n",
       "    <tr>\n",
       "      <th>3</th>\n",
       "      <td>112.033465</td>\n",
       "      <td>91.515226</td>\n",
       "      <td>106.015854</td>\n",
       "    </tr>\n",
       "    <tr>\n",
       "      <th>4</th>\n",
       "      <td>92.283705</td>\n",
       "      <td>83.761394</td>\n",
       "      <td>103.766304</td>\n",
       "    </tr>\n",
       "    <tr>\n",
       "      <th>5</th>\n",
       "      <td>107.003929</td>\n",
       "      <td>97.326299</td>\n",
       "      <td>96.401716</td>\n",
       "    </tr>\n",
       "    <tr>\n",
       "      <th>6</th>\n",
       "      <td>109.445056</td>\n",
       "      <td>107.638316</td>\n",
       "      <td>104.707802</td>\n",
       "    </tr>\n",
       "    <tr>\n",
       "      <th>7</th>\n",
       "      <td>106.272108</td>\n",
       "      <td>116.514600</td>\n",
       "      <td>85.789005</td>\n",
       "    </tr>\n",
       "    <tr>\n",
       "      <th>8</th>\n",
       "      <td>102.889273</td>\n",
       "      <td>89.947853</td>\n",
       "      <td>96.167647</td>\n",
       "    </tr>\n",
       "    <tr>\n",
       "      <th>9</th>\n",
       "      <td>108.907162</td>\n",
       "      <td>97.595077</td>\n",
       "      <td>108.031209</td>\n",
       "    </tr>\n",
       "    <tr>\n",
       "      <th>10</th>\n",
       "      <td>100.913210</td>\n",
       "      <td>120.312683</td>\n",
       "      <td>91.066094</td>\n",
       "    </tr>\n",
       "    <tr>\n",
       "      <th>11</th>\n",
       "      <td>105.723788</td>\n",
       "      <td>97.524837</td>\n",
       "      <td>94.401822</td>\n",
       "    </tr>\n",
       "    <tr>\n",
       "      <th>12</th>\n",
       "      <td>104.194414</td>\n",
       "      <td>107.451066</td>\n",
       "      <td>101.474077</td>\n",
       "    </tr>\n",
       "    <tr>\n",
       "      <th>13</th>\n",
       "      <td>106.984651</td>\n",
       "      <td>110.893786</td>\n",
       "      <td>84.301367</td>\n",
       "    </tr>\n",
       "    <tr>\n",
       "      <th>14</th>\n",
       "      <td>87.098941</td>\n",
       "      <td>103.669461</td>\n",
       "      <td>99.299400</td>\n",
       "    </tr>\n",
       "    <tr>\n",
       "      <th>15</th>\n",
       "      <td>97.957944</td>\n",
       "      <td>111.939823</td>\n",
       "      <td>104.947263</td>\n",
       "    </tr>\n",
       "    <tr>\n",
       "      <th>16</th>\n",
       "      <td>105.231761</td>\n",
       "      <td>80.542200</td>\n",
       "      <td>96.525718</td>\n",
       "    </tr>\n",
       "    <tr>\n",
       "      <th>17</th>\n",
       "      <td>98.288042</td>\n",
       "      <td>102.025185</td>\n",
       "      <td>93.379637</td>\n",
       "    </tr>\n",
       "    <tr>\n",
       "      <th>18</th>\n",
       "      <td>97.111945</td>\n",
       "      <td>92.458506</td>\n",
       "      <td>110.618610</td>\n",
       "    </tr>\n",
       "    <tr>\n",
       "      <th>19</th>\n",
       "      <td>95.501397</td>\n",
       "      <td>73.420445</td>\n",
       "      <td>93.446001</td>\n",
       "    </tr>\n",
       "  </tbody>\n",
       "</table>\n",
       "</div>"
      ],
      "text/plain": [
       "             0           1           2\n",
       "0    96.723357   97.612089  111.783604\n",
       "1    91.945907   93.015671   87.330393\n",
       "2   105.194174  120.185017  108.185917\n",
       "3   112.033465   91.515226  106.015854\n",
       "4    92.283705   83.761394  103.766304\n",
       "5   107.003929   97.326299   96.401716\n",
       "6   109.445056  107.638316  104.707802\n",
       "7   106.272108  116.514600   85.789005\n",
       "8   102.889273   89.947853   96.167647\n",
       "9   108.907162   97.595077  108.031209\n",
       "10  100.913210  120.312683   91.066094\n",
       "11  105.723788   97.524837   94.401822\n",
       "12  104.194414  107.451066  101.474077\n",
       "13  106.984651  110.893786   84.301367\n",
       "14   87.098941  103.669461   99.299400\n",
       "15   97.957944  111.939823  104.947263\n",
       "16  105.231761   80.542200   96.525718\n",
       "17   98.288042  102.025185   93.379637\n",
       "18   97.111945   92.458506  110.618610\n",
       "19   95.501397   73.420445   93.446001"
      ]
     },
     "execution_count": 10,
     "metadata": {},
     "output_type": "execute_result"
    }
   ],
   "source": [
    "arr = np.random.normal(100, 10, (20,3))\n",
    "\n",
    "# seu código aqui\n",
    "dados = pd.DataFrame(arr)\n",
    "dados"
   ]
  },
  {
   "cell_type": "markdown",
   "metadata": {},
   "source": [
    "#### 5) Nomeie os índices das linhas com inteiros de 1 a 20, e as colunas com os nomes \"x1\", \"x2\", e \"x3\" respectivamente."
   ]
  },
  {
   "cell_type": "code",
   "execution_count": 12,
   "metadata": {},
   "outputs": [
    {
     "name": "stdout",
     "output_type": "stream",
     "text": [
      "            x1          x2          x3\n",
      "1    96.723357   97.612089  111.783604\n",
      "2    91.945907   93.015671   87.330393\n",
      "3   105.194174  120.185017  108.185917\n",
      "4   112.033465   91.515226  106.015854\n",
      "5    92.283705   83.761394  103.766304\n",
      "6   107.003929   97.326299   96.401716\n",
      "7   109.445056  107.638316  104.707802\n",
      "8   106.272108  116.514600   85.789005\n",
      "9   102.889273   89.947853   96.167647\n",
      "10  108.907162   97.595077  108.031209\n",
      "11  100.913210  120.312683   91.066094\n",
      "12  105.723788   97.524837   94.401822\n",
      "13  104.194414  107.451066  101.474077\n",
      "14  106.984651  110.893786   84.301367\n",
      "15   87.098941  103.669461   99.299400\n",
      "16   97.957944  111.939823  104.947263\n",
      "17  105.231761   80.542200   96.525718\n",
      "18   98.288042  102.025185   93.379637\n",
      "19   97.111945   92.458506  110.618610\n",
      "20   95.501397   73.420445   93.446001\n"
     ]
    }
   ],
   "source": [
    "#seu código aqui\n",
    "dados.index = [1,2,3,4,5,6,7,8,9,10,11,12,13,14,15,16,17,18,19,20]\n",
    "dados.columns = ['x1','x2','x3']\n",
    "print(dados)"
   ]
  },
  {
   "cell_type": "markdown",
   "metadata": {},
   "source": [
    "#### 6) No DataFrame do exercício 5, crie uma nova coluna como sendo a média das três colunas, e dê a ela o nome de \"media\" (não recomendo colocar acentos em nomes de variáveis)."
   ]
  },
  {
   "cell_type": "code",
   "execution_count": 14,
   "metadata": {},
   "outputs": [
    {
     "name": "stdout",
     "output_type": "stream",
     "text": [
      "            x1          x2          x3       media\n",
      "1    96.723357   97.612089  111.783604  102.039684\n",
      "2    91.945907   93.015671   87.330393   90.763990\n",
      "3   105.194174  120.185017  108.185917  111.188369\n",
      "4   112.033465   91.515226  106.015854  103.188182\n",
      "5    92.283705   83.761394  103.766304   93.270468\n",
      "6   107.003929   97.326299   96.401716  100.243981\n",
      "7   109.445056  107.638316  104.707802  107.263725\n",
      "8   106.272108  116.514600   85.789005  102.858571\n",
      "9   102.889273   89.947853   96.167647   96.334925\n",
      "10  108.907162   97.595077  108.031209  104.844483\n",
      "11  100.913210  120.312683   91.066094  104.097329\n",
      "12  105.723788   97.524837   94.401822   99.216816\n",
      "13  104.194414  107.451066  101.474077  104.373186\n",
      "14  106.984651  110.893786   84.301367  100.726601\n",
      "15   87.098941  103.669461   99.299400   96.689267\n",
      "16   97.957944  111.939823  104.947263  104.948343\n",
      "17  105.231761   80.542200   96.525718   94.099893\n",
      "18   98.288042  102.025185   93.379637   97.897621\n",
      "19   97.111945   92.458506  110.618610  100.063020\n",
      "20   95.501397   73.420445   93.446001   87.455948\n"
     ]
    }
   ],
   "source": [
    "# seu código aqui\n",
    "dados['media']=(dados['x1'] + dados['x2'] + dados['x3'])/3\n",
    "print(dados)"
   ]
  },
  {
   "cell_type": "markdown",
   "metadata": {},
   "source": [
    "#### 7) No DataFrame do exercício 6, crie uma nova coluna chamada \"log_med\", contendo o logaritmo natural da média calculada no exercício 6 <br>"
   ]
  },
  {
   "cell_type": "code",
   "execution_count": 16,
   "metadata": {},
   "outputs": [
    {
     "name": "stdout",
     "output_type": "stream",
     "text": [
      "            x1          x2          x3       media   log_med\n",
      "1    96.723357   97.612089  111.783604  102.039684  4.625362\n",
      "2    91.945907   93.015671   87.330393   90.763990  4.508263\n",
      "3   105.194174  120.185017  108.185917  111.188369  4.711226\n",
      "4   112.033465   91.515226  106.015854  103.188182  4.636554\n",
      "5    92.283705   83.761394  103.766304   93.270468  4.535504\n",
      "6   107.003929   97.326299   96.401716  100.243981  4.607607\n",
      "7   109.445056  107.638316  104.707802  107.263725  4.675291\n",
      "8   106.272108  116.514600   85.789005  102.858571  4.633355\n",
      "9   102.889273   89.947853   96.167647   96.334925  4.567831\n",
      "10  108.907162   97.595077  108.031209  104.844483  4.652478\n",
      "11  100.913210  120.312683   91.066094  104.097329  4.645326\n",
      "12  105.723788   97.524837   94.401822   99.216816  4.597308\n",
      "13  104.194414  107.451066  101.474077  104.373186  4.647973\n",
      "14  106.984651  110.893786   84.301367  100.726601  4.612410\n",
      "15   87.098941  103.669461   99.299400   96.689267  4.571502\n",
      "16   97.957944  111.939823  104.947263  104.948343  4.653468\n",
      "17  105.231761   80.542200   96.525718   94.099893  4.544357\n",
      "18   98.288042  102.025185   93.379637   97.897621  4.583922\n",
      "19   97.111945   92.458506  110.618610  100.063020  4.605800\n",
      "20   95.501397   73.420445   93.446001   87.455948  4.471135\n"
     ]
    }
   ],
   "source": [
    "# seu código aqui\n",
    "dados['log_med'] = np.log(dados['media'])\n",
    "print(dados)"
   ]
  }
 ],
 "metadata": {
  "kernelspec": {
   "display_name": "Python 3 (ipykernel)",
   "language": "python",
   "name": "python3"
  },
  "language_info": {
   "codemirror_mode": {
    "name": "ipython",
    "version": 3
   },
   "file_extension": ".py",
   "mimetype": "text/x-python",
   "name": "python",
   "nbconvert_exporter": "python",
   "pygments_lexer": "ipython3",
   "version": "3.9.12"
  }
 },
 "nbformat": 4,
 "nbformat_minor": 4
}
